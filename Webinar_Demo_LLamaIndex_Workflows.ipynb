{
 "cells": [
  {
   "cell_type": "markdown",
   "id": "d54d1d32-0bc6-4ea7-829b-8ea76d7f4f54",
   "metadata": {},
   "source": [
    "# Workflow for a ReAct Agent\n",
    "\n",
    "This notebook walks through setting up a `Workflow` to construct a ReAct agent.\n",
    "\n",
    "React calling agents work by prompting an LLM to either invoke tools/functions, or return a final response. They also reflect on the generated outputs before handing over the response to the user"
   ]
  },
  {
   "cell_type": "markdown",
   "id": "5ed37354-6dd2-4c9f-ac96-f9162b993bbf",
   "metadata": {},
   "source": [
    "## Intallations"
   ]
  },
  {
   "cell_type": "code",
   "execution_count": 1,
   "id": "391087dc-2a45-4e61-ac0f-dd13c1560af0",
   "metadata": {},
   "outputs": [],
   "source": [
    "# # Necessary installations\n",
    "# !pip install llama-index==0.12.17\n",
    "# !pip install faiss-cpu==1.10.0\n",
    "# !pip install llama-index-vector-stores-faiss==0.3.0\n",
    "# !pip install llama-index-embeddings-azure-openai==0.3.0\n",
    "# !pip install llama-index-llms-azure-openai==0.3.0\n",
    "# !pip install llama-index-utils-workflow==0.2.1\n",
    "# !pip install duckduckgo-search==7.3.2\n",
    "#!pip intall python-dotenv==1.0.1"
   ]
  },
  {
   "cell_type": "markdown",
   "id": "f315de2a-278c-4f08-8621-fa9893fd3467",
   "metadata": {},
   "source": [
    " `Workflows make async a first-class citizen`. If you were running in your own code, you would want to use `asyncio.run()` to start an async event loop if one isn't already running.\n",
    "\n",
    "```python\n",
    "async def main():\n",
    "    <async code>\n",
    "\n",
    "if __name__ == \"__main__\":\n",
    "    import asyncio\n",
    "    asyncio.run(main())\n",
    "```"
   ]
  },
  {
   "cell_type": "markdown",
   "id": "2d248e9c-f960-4a47-8afe-3d1e084d19c0",
   "metadata": {},
   "source": [
    "## Configure LLM and Embedding Model"
   ]
  },
  {
   "cell_type": "code",
   "execution_count": 2,
   "id": "40c7808c-8c3c-4647-9ba2-84c06eaa396c",
   "metadata": {},
   "outputs": [
    {
     "data": {
      "text/plain": [
       "True"
      ]
     },
     "execution_count": 2,
     "metadata": {},
     "output_type": "execute_result"
    }
   ],
   "source": [
    "from dotenv import load_dotenv\n",
    "import os\n",
    "# Load environment variables from the .env file\n",
    "load_dotenv()"
   ]
  },
  {
   "cell_type": "code",
   "execution_count": 3,
   "id": "d8fb7861-c20c-44de-9f68-eac8000c95e8",
   "metadata": {},
   "outputs": [],
   "source": [
    "from llama_index.llms.azure_openai import AzureOpenAI\n",
    "from llama_index.embeddings.azure_openai import AzureOpenAIEmbedding\n",
    "\n",
    "api_key = os.getenv(\"OPENAI_API_KEY\")\n",
    "azure_endpoint = os.getenv(\"BASE_URL\")\n",
    "api_version = \"2023-07-01-preview\"\n",
    "generation_deployment_name=os.getenv(\"GENERATION_MODEL\")\n",
    "embedding_deployment_name=os.getenv(\"EMBEDDING_MODEL\")\n",
    "\n",
    "# Initialize an instance of the AzureOpenAI class for generating text.\n",
    "llm = AzureOpenAI(\n",
    "    model=\"gpt-4o\",\n",
    "    deployment_name=generation_deployment_name,\n",
    "    api_key=api_key,\n",
    "    azure_endpoint=azure_endpoint,\n",
    "    api_version=api_version,\n",
    ")\n",
    "\n",
    "# Initialize an instance of the AzureOpenAIEmbedding class for generating text embeddings.\n",
    "embed_model = AzureOpenAIEmbedding(\n",
    "    model=\"text-embedding-3-small\",\n",
    "    deployment_name=embedding_deployment_name,\n",
    "    api_key=api_key,\n",
    "    azure_endpoint=azure_endpoint,\n",
    "    api_version=api_version,\n",
    ")"
   ]
  },
  {
   "cell_type": "code",
   "execution_count": 4,
   "id": "7de880db-a165-4909-8716-bfb6fd30ebaf",
   "metadata": {},
   "outputs": [],
   "source": [
    "from llama_index.core import Settings  # This class is used to configure global settings.\n",
    "\n",
    "Settings.embed_model = embed_model\n",
    "Settings.llm = llm"
   ]
  },
  {
   "cell_type": "markdown",
   "id": "9b7a2fd5-422b-4310-8ba6-c5fd19c3b002",
   "metadata": {},
   "source": [
    "## Create Tools for Agent"
   ]
  },
  {
   "cell_type": "markdown",
   "id": "601c2bce-83a5-4afe-b57b-a3a057a5276d",
   "metadata": {},
   "source": [
    "We define the separate tool functions. When integrating with our graph all of these will be executed using the same `handle_tool_calls()` step we will define later in the code.\n",
    "\n",
    "For now, let's define the functions that our agent will have access to."
   ]
  },
  {
   "cell_type": "markdown",
   "id": "2efce602-e9c5-40f3-9197-77ffb9b90407",
   "metadata": {},
   "source": [
    "### Query Engine Tools\n",
    "\n",
    "Query engine is a generic interface that allows you to ask question over your data.\n",
    "\n",
    "1) The `lyft_engine` tool is to get data related to 10k filing of `Lyft, Inc.`.\n",
    "2) The `uber_engine` tool is to get data related to 10k filing of `Uber Technologies, Inc.`"
   ]
  },
  {
   "cell_type": "code",
   "execution_count": 5,
   "id": "edc299ff-ea35-440f-b9c1-3c041156fe75",
   "metadata": {},
   "outputs": [],
   "source": [
    "from llama_index.core import (\n",
    "    SimpleDirectoryReader,\n",
    "    VectorStoreIndex,\n",
    "    StorageContext,\n",
    "    load_index_from_storage,\n",
    ")"
   ]
  },
  {
   "cell_type": "code",
   "execution_count": 6,
   "id": "68492d5f-0c9c-4687-874d-c231c933fec7",
   "metadata": {},
   "outputs": [],
   "source": [
    "# Define the directory where the index is (or will be) persisted\n",
    "persist_dir_lyft = \"./storage/lyft\"\n",
    "persist_dir_uber = \"./storage/uber\"\n",
    "\n",
    "# Check if persistent storage exists\n",
    "if os.path.exists(persist_dir_lyft) and os.path.exists(persist_dir_uber):\n",
    "    # Load the storage context from disk\n",
    "    storage_context_lyft = StorageContext.from_defaults(persist_dir=persist_dir_lyft)\n",
    "    storage_context_uber = StorageContext.from_defaults(persist_dir=persist_dir_uber)\n",
    "    # Load the index using the persistent storage context\n",
    "    lyft_index = load_index_from_storage(storage_context_lyft)\n",
    "    uber_index = load_index_from_storage(storage_context_uber)\n",
    "    # set index_loaded variable to True\n",
    "    index_loaded=True\n",
    "else:\n",
    "    index_loaded=False"
   ]
  },
  {
   "cell_type": "code",
   "execution_count": 7,
   "id": "fc232a58-6186-480b-bdcd-f5cfe9168180",
   "metadata": {},
   "outputs": [],
   "source": [
    "#If the index is not in storage make the index from the documents\n",
    "if not index_loaded:\n",
    "    # load data\n",
    "    lyft_docs = SimpleDirectoryReader(\n",
    "        input_files=[\"./data/10k/lyft_2021.pdf\"]\n",
    "    ).load_data()\n",
    "    uber_docs = SimpleDirectoryReader(\n",
    "        input_files=[\"./data/10k/uber_2021.pdf\"]\n",
    "    ).load_data()\n",
    "\n",
    "    # build index\n",
    "    lyft_index = VectorStoreIndex.from_documents(lyft_docs)\n",
    "    uber_index = VectorStoreIndex.from_documents(uber_docs)\n",
    "\n",
    "    # persist index\n",
    "    lyft_index.storage_context.persist(persist_dir=\"./storage/lyft\")\n",
    "    uber_index.storage_context.persist(persist_dir=\"./storage/uber\")"
   ]
  },
  {
   "cell_type": "code",
   "execution_count": 8,
   "id": "2f133316-68b6-408c-8b07-31e4e73c78fc",
   "metadata": {},
   "outputs": [],
   "source": [
    "# Create a query engine for the Lyft index. \n",
    "lyft_engine = lyft_index.as_query_engine(similarity_top_k=3) #return the top 3 results\n",
    "\n",
    "# Create a query engine for the Uber index.\n",
    "uber_engine = uber_index.as_query_engine(similarity_top_k=3) #top 3 most similar results\n"
   ]
  },
  {
   "cell_type": "markdown",
   "id": "ce15e066-8bb4-4702-a130-be5fbf5565b5",
   "metadata": {},
   "source": [
    "### Web Search Tool\n",
    "\n",
    "The web search tool will provide the agent with access to web search. It will be instructed to use this for more general knowledge queries."
   ]
  },
  {
   "cell_type": "code",
   "execution_count": 9,
   "id": "ecdb42ee-f6db-4769-85cb-0e4f660ee909",
   "metadata": {},
   "outputs": [],
   "source": [
    "from duckduckgo_search import DDGS\n",
    "\n",
    "async def websearch(query: str) -> str:\n",
    "    ddgs = DDGS() # Instantiate the DDGS class which provides DuckDuckGo search functionality.\n",
    "    response = ddgs.text(query, region=\"us-en\", max_results=5) #5 top most search\n",
    "    context = \"\"\n",
    "    for count,result in enumerate(response):\n",
    "        context += f\"Result {count}: {result['body']}\\n\"\n",
    "\n",
    "    # Return the concatenated search result bodies as a single string.\n",
    "    return context"
   ]
  },
  {
   "cell_type": "markdown",
   "id": "42f3f389-af7b-42f8-a28d-2e9ac46d7062",
   "metadata": {},
   "source": [
    "## Designing the Workflow\n",
    "\n",
    "`ReAct Agent Workflow:`\n",
    "- Receives a user message and updates the conversation memory.\n",
    "- Formats a prompt using the conversation history and any ongoing reasoning.\n",
    "- Sends the prompt to the LLM and parses its output.\n",
    "- If the LLM provides a final response, it is returned; if it indicates a tool call, the appropriate tool is executed.\n",
    "- The output from the tool is integrated back into the reasoning, and the loop repeats until a final response is produced."
   ]
  },
  {
   "cell_type": "markdown",
   "id": "f58e1280-a308-45c1-a8f9-e569bad5b797",
   "metadata": {},
   "source": [
    "## The Workflow Events\n",
    "\n",
    "To handle these steps, we need to define a few events:"
   ]
  },
  {
   "cell_type": "code",
   "execution_count": 11,
   "id": "c9faf0bf-22a2-4e0d-a61f-4c03c0f13172",
   "metadata": {},
   "outputs": [],
   "source": [
    "from llama_index.core.llms import ChatMessage\n",
    "from llama_index.core.tools import ToolSelection, ToolOutput\n",
    "from llama_index.core.workflow import Event\n",
    "\n",
    "class PrepEvent(Event): #We need to prepare the input for LLM\n",
    "    pass\n",
    "\n",
    "\n",
    "class InputEvent(Event): #Input is ready lets give it to LLM\n",
    "    input: list[ChatMessage]\n",
    "\n",
    "\n",
    "class ToolCallEvent(Event): # Agent has decided to call a tool\n",
    "    tool_calls: list[ToolSelection]"
   ]
  },
  {
   "cell_type": "markdown",
   "id": "102aa1fc-2e6d-42e9-b4ed-bf30f525281b",
   "metadata": {},
   "source": [
    "The other steps will use the built-in `StartEvent` and `StopEvent` events.\n",
    "\n",
    "In addition to events, we will also use the global context to store the current react reasoning!"
   ]
  },
  {
   "cell_type": "markdown",
   "id": "6d20c4bf-64d0-4c72-90ef-f4133c7d1b26",
   "metadata": {},
   "source": [
    "## The Workflow and its Steps\n",
    "\n",
    "With our events defined, we can construct our workflow and steps. "
   ]
  },
  {
   "cell_type": "code",
   "execution_count": 12,
   "id": "f34ffd1f-05e4-443a-9de1-66a3db1f8a1f",
   "metadata": {},
   "outputs": [],
   "source": [
    "# Import necessary types and classes from typing and llama_index modules.\n",
    "from typing import Any, List\n",
    "from llama_index.core.agent.react import ReActChatFormatter, ReActOutputParser\n",
    "from llama_index.core.agent.react.types import (\n",
    "    ActionReasoningStep,\n",
    "    ObservationReasoningStep,\n",
    ")\n",
    "from llama_index.core.llms.llm import LLM\n",
    "from llama_index.core.memory import ChatMemoryBuffer\n",
    "from llama_index.core.tools.types import BaseTool\n",
    "from llama_index.core.workflow import (\n",
    "    Context,\n",
    "    Workflow,\n",
    "    StartEvent,\n",
    "    StopEvent,\n",
    "    step,\n",
    ")\n",
    "from llama_index.llms.openai import OpenAI"
   ]
  },
  {
   "cell_type": "code",
   "execution_count": 13,
   "id": "29604bba-c3bd-456b-b62a-2011e98cdfe8",
   "metadata": {},
   "outputs": [],
   "source": [
    "# Define the ReActAgent as a subclass of Workflow to orchestrate the ReAct prompting loop.\n",
    "class ReActAgent(Workflow):\n",
    "    def __init__(\n",
    "        self,\n",
    "        *args: Any,\n",
    "        llm: LLM | None = None,\n",
    "        tools: list[BaseTool] | None = None,\n",
    "        extra_context: str | None = None,\n",
    "        **kwargs: Any,\n",
    "    ) -> None:\n",
    "\n",
    "        # Initialize parent Workflow.\n",
    "        super().__init__(*args, **kwargs)\n",
    "        self.tools = tools or []\n",
    "        self.llm = llm\n",
    "        self.memory = ChatMemoryBuffer.from_defaults()\n",
    "        self.formatter = ReActChatFormatter.from_defaults(\n",
    "            context=extra_context or \"\"\n",
    "        )\n",
    "        self.output_parser = ReActOutputParser()\n",
    "        self.sources = [] # Initialize an empty list to track sources (e.g., tool outputs).\n",
    "\n",
    "    @step\n",
    "    async def new_user_msg(self, ctx: Context, ev: StartEvent) -> PrepEvent:\n",
    "        \"\"\"Adds the user message to memory, and clears the global context ensuring a fresh start\"\"\"\n",
    "        \n",
    "        # Clear the sources list at the beginning of a new conversation round.\n",
    "        self.sources = []\n",
    "\n",
    "        # Extract the user input from the StartEvent.\n",
    "        user_input = ev.input\n",
    "        # Create a chat message for the user.\n",
    "        user_msg = ChatMessage(role=\"user\", content=user_input)\n",
    "        # Add the user message to the conversation memory.\n",
    "        self.memory.put(user_msg)\n",
    "\n",
    "        # Clear the current reasoning stored in the context, ensuring a fresh start.\n",
    "        await ctx.set(\"current_reasoning\", [])\n",
    "\n",
    "        # Emit a PrepEvent to indicate that preparation is complete.\n",
    "        return PrepEvent()\n",
    "\n",
    "    @step\n",
    "    async def prepare_chat_history(self, ctx: Context, ev: PrepEvent) -> InputEvent:\n",
    "        \"\"\"Prepares the ReAct prompt using the chat history, available tools, and current reasoning (if any).\"\"\"\n",
    "        \n",
    "        # Retrieve the chat history from the memory buffer.\n",
    "        chat_history = self.memory.get()\n",
    "        # Get the current reasoning steps from the context (or default to an empty list).\n",
    "        current_reasoning = await ctx.get(\"current_reasoning\", default=[])\n",
    "        # Format the input for the LLM by including the tools, chat history, and current reasoning.\n",
    "        llm_input = self.formatter.format(\n",
    "            self.tools, chat_history, current_reasoning=current_reasoning\n",
    "        )\n",
    "        # print(\"LLM Input\",llm_input)\n",
    "        # Return an InputEvent containing the prepared LLM prompt.\n",
    "        return InputEvent(input=llm_input)\n",
    "\n",
    "    @step\n",
    "    async def handle_llm_input(self, ctx: Context, ev: InputEvent) -> ToolCallEvent | StopEvent:\n",
    "        \"\"\"Prompts the LLM with our ReAct prompt and decides whether to emit a StopEvent, ToolCallEvent, or PrepEvent.\"\"\"\n",
    "        \n",
    "        # Retrieve the prompt from the InputEvent.\n",
    "        llm_input = ev.input\n",
    "        # Send the prompt to the LLM and await its response.\n",
    "        response = await self.llm.achat(llm_input)\n",
    "\n",
    "        try:\n",
    "            # Parse the LLM's response to extract a reasoning step.\n",
    "            reasoning_step = self.output_parser.parse(response.message.content)\n",
    "            # Append the new reasoning step to the context's current reasoning.\n",
    "            (await ctx.get(\"current_reasoning\", default=[])).append(\n",
    "                reasoning_step\n",
    "            )\n",
    "            # If the reasoning step indicates that the LLM is done (i.e., no tool calls are required):\n",
    "            if reasoning_step.is_done:\n",
    "                # Add the final response to the conversation memory.\n",
    "                self.memory.put(\n",
    "                    ChatMessage(\n",
    "                        role=\"assistant\", content=reasoning_step.response\n",
    "                    )\n",
    "                )\n",
    "                # Emit a StopEvent with the final response, sources, and reasoning.\n",
    "                return StopEvent(\n",
    "                    result={\n",
    "                        \"response\": reasoning_step.response,\n",
    "                        \"sources\": [*self.sources],\n",
    "                        \"reasoning\": await ctx.get(\n",
    "                            \"current_reasoning\", default=[]\n",
    "                        ),\n",
    "                    }\n",
    "                )\n",
    "            # If the reasoning step is an action that requires calling a tool:\n",
    "            elif isinstance(reasoning_step, ActionReasoningStep):\n",
    "                # Extract the tool name and its input arguments.\n",
    "                tool_name = reasoning_step.action\n",
    "                tool_args = reasoning_step.action_input\n",
    "                # Emit a ToolCallEvent with the relevant tool call details.\n",
    "                return ToolCallEvent(\n",
    "                    tool_calls=[\n",
    "                        ToolSelection(\n",
    "                            tool_id=tool_name,\n",
    "                            tool_name=tool_name,\n",
    "                            tool_kwargs=tool_args,\n",
    "                        )\n",
    "                    ]\n",
    "                )\n",
    "        except Exception as e:\n",
    "            # If there is an error in parsing the LLM's reasoning, log an observation step.\n",
    "            (await ctx.get(\"current_reasoning\", default=[])).append(\n",
    "                ObservationReasoningStep(\n",
    "                    observation=f\"There was an error in parsing my reasoning: {e}\"\n",
    "                )\n",
    "            )\n",
    "\n",
    "        # If no final response or tool call was detected, emit a PrepEvent to repeat the reasoning process.\n",
    "        return PrepEvent()\n",
    "\n",
    "    @step\n",
    "    async def handle_tool_calls(self, ctx: Context, ev: ToolCallEvent) -> PrepEvent:\n",
    "        \"\"\"Safely calls tools with error handling, adding the tool outputs to the current reasoning.\"\"\"\n",
    "        # Retrieve the list of tool calls from the event.\n",
    "        tool_calls = ev.tool_calls\n",
    "        # Map tools by their names for easy lookup.\n",
    "        tools_by_name = {tool.metadata.get_name(): tool for tool in self.tools}\n",
    "\n",
    "        # Iterate over each tool call.\n",
    "        for tool_call in tool_calls:\n",
    "            # Retrieve the tool instance based on its name.\n",
    "            tool = tools_by_name.get(tool_call.tool_name)\n",
    "            if not tool:\n",
    "                # If the tool is not found, log an observation about the missing tool.\n",
    "                (await ctx.get(\"current_reasoning\", default=[])).append(\n",
    "                    ObservationReasoningStep(\n",
    "                        observation=f\"Tool {tool_call.tool_name} does not exist\"\n",
    "                    )\n",
    "                )\n",
    "                continue\n",
    "\n",
    "            try:\n",
    "                # Call the tool asynchronously with the provided keyword arguments.\n",
    "                tool_output = await tool.acall(**tool_call.tool_kwargs)\n",
    "                # Add the tool's output to the list of sources.\n",
    "                self.sources.append(tool_output)\n",
    "                \n",
    "                # Record the output of the tool as an observation in the current reasoning.\n",
    "                (await ctx.get(\"current_reasoning\", default=[])).append(\n",
    "                    ObservationReasoningStep(observation=tool_output.content)\n",
    "                )\n",
    "            except Exception as e:\n",
    "                # If the tool call fails, record an observation with the error details.\n",
    "                (await ctx.get(\"current_reasoning\", default=[])).append(\n",
    "                    ObservationReasoningStep(\n",
    "                        observation=f\"Error calling tool {tool.metadata.get_name()}: {e}\"\n",
    "                    )\n",
    "                )\n",
    "\n",
    "        # Emit a PrepEvent to loop back and generate another prompt iteration.\n",
    "        return PrepEvent()\n"
   ]
  },
  {
   "cell_type": "markdown",
   "id": "d4fe1b6f-fd18-4d8b-821d-a32d696eaffd",
   "metadata": {},
   "source": [
    "## Observability"
   ]
  },
  {
   "cell_type": "code",
   "execution_count": 14,
   "id": "9aac1f6e-aff3-40ef-bfee-9d7683a42809",
   "metadata": {},
   "outputs": [
    {
     "name": "stdout",
     "output_type": "stream",
     "text": [
      "react_agent.html\n"
     ]
    }
   ],
   "source": [
    "from llama_index.utils.workflow import draw_all_possible_flows\n",
    "\n",
    "draw_all_possible_flows(ReActAgent, filename=\"react_agent.html\")"
   ]
  },
  {
   "cell_type": "markdown",
   "id": "a364ba0f-d9eb-4648-8658-d4b896905d81",
   "metadata": {},
   "source": [
    "## Attach Tools to the Agent"
   ]
  },
  {
   "cell_type": "markdown",
   "id": "9edc4e6d-5cd9-4121-98ba-e476a7102bc7",
   "metadata": {},
   "source": [
    "Attach tools we previously built to the ReAct Agent."
   ]
  },
  {
   "cell_type": "code",
   "execution_count": 15,
   "id": "6d373461-831e-48b7-88bc-96831134ff54",
   "metadata": {},
   "outputs": [],
   "source": [
    "from llama_index.core.tools import QueryEngineTool,FunctionTool\n",
    "# we have only defined tools that can retrieve data for now. We can also define tools that can take actions such as sending email, scheduling a meeting and so on\n",
    "tools = [\n",
    "          QueryEngineTool.from_defaults(\n",
    "                lyft_engine, \n",
    "                name=\"lyft_10k\", \n",
    "                description=\"Provides official financial data from Lyft's 2021 10-K filing, including revenue, expenses, profitability, growth trends, and key financial metrics.\"\n",
    "            ),\n",
    "\n",
    "           QueryEngineTool.from_defaults(\n",
    "                uber_engine, \n",
    "                name=\"uber_10k\", \n",
    "                description=\"Provides official financial data from Uber's 2021 10-K filing, including revenue, operating costs, profit margins, market trends, and key financial indicators.\"\n",
    "            ),\n",
    "\n",
    "           FunctionTool.from_defaults(\n",
    "               async_fn=websearch,\n",
    "               name=\"web_search\",\n",
    "               description=\"Provides real-time, live web search capabilities to fetch the most current and relevant information from the internet. Use this tool when a query requires up-to-date data, dynamic news, or broad context beyond the static datasets.\")\n",
    "       ]"
   ]
  },
  {
   "cell_type": "code",
   "execution_count": 16,
   "id": "a098a89e-bd9c-4019-a6e4-b97592aec009",
   "metadata": {},
   "outputs": [],
   "source": [
    "agent = ReActAgent(\n",
    "    llm=llm, tools=tools, timeout=120, verbose=True #we set a timeout of 120s.\n",
    ")"
   ]
  },
  {
   "cell_type": "markdown",
   "id": "012f1c87-0fb7-4c5e-b819-966e170858e8",
   "metadata": {},
   "source": [
    "## Run the Workflow!\n",
    "\n",
    "**NOTE:** With loops, we need to be mindful of runtime. Here, we set a timeout of 120s."
   ]
  },
  {
   "cell_type": "code",
   "execution_count": 28,
   "id": "46e52110-85d4-40b1-8606-a70118d22d43",
   "metadata": {},
   "outputs": [
    {
     "name": "stdout",
     "output_type": "stream",
     "text": [
      "Running step new_user_msg\n",
      "Step new_user_msg produced event PrepEvent\n",
      "Running step prepare_chat_history\n",
      "Step prepare_chat_history produced event InputEvent\n",
      "Running step handle_llm_input\n",
      "Step handle_llm_input produced event StopEvent\n"
     ]
    }
   ],
   "source": [
    "result= await agent.run(input=\"Hello!\")"
   ]
  },
  {
   "cell_type": "code",
   "execution_count": 30,
   "id": "2d5586bb-6290-4696-9327-d0e1ab7fd512",
   "metadata": {},
   "outputs": [],
   "source": [
    "question=[\n",
    "    \"Compare and contrast the revenue growth of Uber and Lyft in 2021, then give an analysis\",\n",
    "    \"Compare and contrast the revenue growth of Uber and Lyft in 2021, then give an analysis. Compare it with new trends and techniques as well.\",\n",
    "    \"What regulatory challenges are impacting the ride-sharing industry today?\",\n",
    "    \"What are the best practices a company should follow to have high growth?\",\n",
    "    \"Can you tell me about the risk factors of the company with the higher revenue?\",\n",
    "    \"What is the forecast for the ride-sharing market in the next five years?\",\n",
    "    \"What key financial risks are disclosed in Uber's 2021 10-K, and how are these risks being discussed in the latest financial news?\"    \n",
    "]"
   ]
  },
  {
   "cell_type": "code",
   "execution_count": 33,
   "id": "b0af31de-8ba3-4f31-9b32-1e0a18caafb4",
   "metadata": {},
   "outputs": [
    {
     "name": "stdout",
     "output_type": "stream",
     "text": [
      "Running step new_user_msg\n",
      "Step new_user_msg produced event PrepEvent\n",
      "Running step prepare_chat_history\n",
      "Step prepare_chat_history produced event InputEvent\n",
      "Running step handle_llm_input\n",
      "Step handle_llm_input produced event ToolCallEvent\n",
      "Running step handle_tool_calls\n",
      "Step handle_tool_calls produced event PrepEvent\n",
      "Running step prepare_chat_history\n",
      "Step prepare_chat_history produced event InputEvent\n",
      "Running step handle_llm_input\n",
      "Step handle_llm_input produced event ToolCallEvent\n",
      "Running step handle_tool_calls\n",
      "Step handle_tool_calls produced event PrepEvent\n",
      "Running step prepare_chat_history\n",
      "Step prepare_chat_history produced event InputEvent\n",
      "Running step handle_llm_input\n",
      "Step handle_llm_input produced event StopEvent\n"
     ]
    }
   ],
   "source": [
    "result= await agent.run(input=question[0])"
   ]
  },
  {
   "cell_type": "code",
   "execution_count": 20,
   "id": "c184ed04-db5e-4a4c-86dc-638522a749c3",
   "metadata": {},
   "outputs": [
    {
     "name": "stdout",
     "output_type": "stream",
     "text": [
      "In 2021, Uber and Lyft both experienced significant revenue growth as the economy began recovering from the impacts of the COVID-19 pandemic. Here's a comparison and analysis of their revenue growth:\n",
      "\n",
      "1. **Revenue Growth Rate**:\n",
      "   - **Uber**: Revenue grew by 57%, increasing from $11.1 billion in 2020 to $17.5 billion in 2021.\n",
      "   - **Lyft**: Revenue grew by 36%, with an increase of $843.6 million compared to 2020.\n",
      "\n",
      "   Uber's revenue growth rate was notably higher than Lyft's in 2021.\n",
      "\n",
      "2. **Key Drivers of Growth**:\n",
      "   - **Uber**: The growth was driven by a 56% increase in Gross Bookings, with Delivery Gross Bookings rising by 71% and Mobility Gross Bookings increasing by 38%. The delivery segment benefited from higher food delivery orders, larger basket sizes, and market expansion, while the mobility segment saw increased trip volumes as pandemic restrictions eased.\n",
      "   - **Lyft**: Growth was primarily driven by a significant increase in the number of Active Riders as vaccines became widely available and communities reopened. Additional revenue came from licensing and data access agreements starting in Q2 2021. However, growth was partially offset by investments in driver supply, including increased driver incentives.\n",
      "\n",
      "3. **Business Diversification**:\n",
      "   - Uber's diversified business model, which includes both Mobility (ride-hailing) and Delivery (food and goods delivery), allowed it to capitalize on multiple revenue streams. The strong performance of its Delivery segment, in particular, contributed significantly to its overall growth.\n",
      "   - Lyft, on the other hand, remains focused primarily on ride-hailing, which limited its ability to capture growth opportunities in other segments like delivery.\n",
      "\n",
      "4. **Market Position**:\n",
      "   - Uber's larger scale and global presence gave it an advantage in capturing growth across different markets and segments. Lyft, being more regionally focused (primarily in North America), had a narrower scope for growth.\n",
      "\n",
      "**Analysis**:\n",
      "Uber outperformed Lyft in terms of revenue growth in 2021, largely due to its diversified business model and global reach. While Lyft benefited from the reopening of communities and an increase in Active Riders, its growth was constrained by its reliance on the ride-hailing segment and the need to invest heavily in driver incentives. Uber's ability to leverage its Delivery segment, which saw significant demand during the pandemic, provided a strong boost to its overall revenue.\n",
      "\n",
      "In conclusion, Uber's broader business strategy and market presence positioned it better for growth in 2021 compared to Lyft, which remains more focused on its core ride-hailing business.\n"
     ]
    }
   ],
   "source": [
    "print(result[\"response\"])"
   ]
  },
  {
   "cell_type": "code",
   "execution_count": 21,
   "id": "fa79297c-78d0-4166-a6e5-4ba90d48d3d6",
   "metadata": {},
   "outputs": [
    {
     "name": "stdout",
     "output_type": "stream",
     "text": [
      "[ActionReasoningStep(thought='The current language of the user is English. I need to gather data on the revenue growth of Uber and Lyft in 2021 from their respective 10-K filings to perform the comparison and analysis.', action='lyft_10k', action_input={'input': 'revenue growth in 2021'}), ObservationReasoningStep(observation='Revenue in 2021 grew by 36% compared to 2020, increasing by $843.6 million. This growth was primarily driven by a significant increase in the number of Active Riders as vaccines became more widely distributed and communities reopened. Additionally, revenue benefited from licensing and data access agreements starting in the second quarter of 2021. However, this growth was partially offset by investments in driver supply, which included increased driver incentives recorded as a reduction to revenue.', return_direct=False), ActionReasoningStep(thought=\"I now have Lyft's revenue growth data for 2021. Next, I need to gather Uber's revenue growth data for the same year to perform the comparison and analysis.\", action='uber_10k', action_input={'input': 'revenue growth in 2021'}), ObservationReasoningStep(observation='In 2021, revenue grew by 57% compared to 2020, increasing from $11.1 billion to $17.5 billion. This growth was primarily driven by a 56% increase in Gross Bookings, which included a 71% rise in Delivery Gross Bookings and a 38% increase in Mobility Gross Bookings. The growth in Delivery Gross Bookings was attributed to higher food delivery orders, larger basket sizes due to stay-at-home demand, and expansion in U.S. and international markets. Mobility Gross Bookings growth was driven by increased trip volumes as the business recovered from the impacts of COVID-19.', return_direct=False), ResponseReasoningStep(thought='I now have the revenue growth data for both Uber and Lyft in 2021. I can compare and contrast their performance and provide an analysis.', response=\"In 2021, Uber and Lyft both experienced significant revenue growth as the economy began recovering from the impacts of the COVID-19 pandemic. Here's a comparison and analysis of their revenue growth:\\n\\n1. **Revenue Growth Rate**:\\n   - **Uber**: Revenue grew by 57%, increasing from $11.1 billion in 2020 to $17.5 billion in 2021.\\n   - **Lyft**: Revenue grew by 36%, with an increase of $843.6 million compared to 2020.\\n\\n   Uber's revenue growth rate was notably higher than Lyft's in 2021.\\n\\n2. **Key Drivers of Growth**:\\n   - **Uber**: The growth was driven by a 56% increase in Gross Bookings, with Delivery Gross Bookings rising by 71% and Mobility Gross Bookings increasing by 38%. The delivery segment benefited from higher food delivery orders, larger basket sizes, and market expansion, while the mobility segment saw increased trip volumes as pandemic restrictions eased.\\n   - **Lyft**: Growth was primarily driven by a significant increase in the number of Active Riders as vaccines became widely available and communities reopened. Additional revenue came from licensing and data access agreements starting in Q2 2021. However, growth was partially offset by investments in driver supply, including increased driver incentives.\\n\\n3. **Business Diversification**:\\n   - Uber's diversified business model, which includes both Mobility (ride-hailing) and Delivery (food and goods delivery), allowed it to capitalize on multiple revenue streams. The strong performance of its Delivery segment, in particular, contributed significantly to its overall growth.\\n   - Lyft, on the other hand, remains focused primarily on ride-hailing, which limited its ability to capture growth opportunities in other segments like delivery.\\n\\n4. **Market Position**:\\n   - Uber's larger scale and global presence gave it an advantage in capturing growth across different markets and segments. Lyft, being more regionally focused (primarily in North America), had a narrower scope for growth.\\n\\n**Analysis**:\\nUber outperformed Lyft in terms of revenue growth in 2021, largely due to its diversified business model and global reach. While Lyft benefited from the reopening of communities and an increase in Active Riders, its growth was constrained by its reliance on the ride-hailing segment and the need to invest heavily in driver incentives. Uber's ability to leverage its Delivery segment, which saw significant demand during the pandemic, provided a strong boost to its overall revenue.\\n\\nIn conclusion, Uber's broader business strategy and market presence positioned it better for growth in 2021 compared to Lyft, which remains more focused on its core ride-hailing business.\", is_streaming=False)]\n"
     ]
    }
   ],
   "source": [
    "print(result[\"reasoning\"])"
   ]
  },
  {
   "cell_type": "code",
   "execution_count": 22,
   "id": "10b7d38b-10a9-4a43-89f1-8fcb207cc75f",
   "metadata": {},
   "outputs": [],
   "source": [
    "def format_reasoning(reasoning_steps):\n",
    "    for step in reasoning_steps:\n",
    "        # Use the class name as the heading\n",
    "        step_type = type(step).__name__\n",
    "        print(f\"===== {step_type}====\\n\")\n",
    "        \n",
    "        # Check if the step object has attributes stored in __dict__\n",
    "        if hasattr(step, '__dict__'):\n",
    "            for key, value in step.__dict__.items():\n",
    "                print(f\"- **{key.capitalize()}**: {value}\")\n",
    "        else:\n",
    "            # Fallback: simply print the step\n",
    "            print(step)\n",
    "        \n",
    "        print(\"\\n\")"
   ]
  },
  {
   "cell_type": "code",
   "execution_count": 23,
   "id": "e563bc45-8ce1-4b3e-89b5-d7c12e974f94",
   "metadata": {},
   "outputs": [
    {
     "name": "stdout",
     "output_type": "stream",
     "text": [
      "===== ActionReasoningStep====\n",
      "\n",
      "- **Thought**: The current language of the user is English. I need to gather data on the revenue growth of Uber and Lyft in 2021 from their respective 10-K filings to perform the comparison and analysis.\n",
      "- **Action**: lyft_10k\n",
      "- **Action_input**: {'input': 'revenue growth in 2021'}\n",
      "\n",
      "\n",
      "===== ObservationReasoningStep====\n",
      "\n",
      "- **Observation**: Revenue in 2021 grew by 36% compared to 2020, increasing by $843.6 million. This growth was primarily driven by a significant increase in the number of Active Riders as vaccines became more widely distributed and communities reopened. Additionally, revenue benefited from licensing and data access agreements starting in the second quarter of 2021. However, this growth was partially offset by investments in driver supply, which included increased driver incentives recorded as a reduction to revenue.\n",
      "- **Return_direct**: False\n",
      "\n",
      "\n",
      "===== ActionReasoningStep====\n",
      "\n",
      "- **Thought**: I now have Lyft's revenue growth data for 2021. Next, I need to gather Uber's revenue growth data for the same year to perform the comparison and analysis.\n",
      "- **Action**: uber_10k\n",
      "- **Action_input**: {'input': 'revenue growth in 2021'}\n",
      "\n",
      "\n",
      "===== ObservationReasoningStep====\n",
      "\n",
      "- **Observation**: In 2021, revenue grew by 57% compared to 2020, increasing from $11.1 billion to $17.5 billion. This growth was primarily driven by a 56% increase in Gross Bookings, which included a 71% rise in Delivery Gross Bookings and a 38% increase in Mobility Gross Bookings. The growth in Delivery Gross Bookings was attributed to higher food delivery orders, larger basket sizes due to stay-at-home demand, and expansion in U.S. and international markets. Mobility Gross Bookings growth was driven by increased trip volumes as the business recovered from the impacts of COVID-19.\n",
      "- **Return_direct**: False\n",
      "\n",
      "\n",
      "===== ResponseReasoningStep====\n",
      "\n",
      "- **Thought**: I now have the revenue growth data for both Uber and Lyft in 2021. I can compare and contrast their performance and provide an analysis.\n",
      "- **Response**: In 2021, Uber and Lyft both experienced significant revenue growth as the economy began recovering from the impacts of the COVID-19 pandemic. Here's a comparison and analysis of their revenue growth:\n",
      "\n",
      "1. **Revenue Growth Rate**:\n",
      "   - **Uber**: Revenue grew by 57%, increasing from $11.1 billion in 2020 to $17.5 billion in 2021.\n",
      "   - **Lyft**: Revenue grew by 36%, with an increase of $843.6 million compared to 2020.\n",
      "\n",
      "   Uber's revenue growth rate was notably higher than Lyft's in 2021.\n",
      "\n",
      "2. **Key Drivers of Growth**:\n",
      "   - **Uber**: The growth was driven by a 56% increase in Gross Bookings, with Delivery Gross Bookings rising by 71% and Mobility Gross Bookings increasing by 38%. The delivery segment benefited from higher food delivery orders, larger basket sizes, and market expansion, while the mobility segment saw increased trip volumes as pandemic restrictions eased.\n",
      "   - **Lyft**: Growth was primarily driven by a significant increase in the number of Active Riders as vaccines became widely available and communities reopened. Additional revenue came from licensing and data access agreements starting in Q2 2021. However, growth was partially offset by investments in driver supply, including increased driver incentives.\n",
      "\n",
      "3. **Business Diversification**:\n",
      "   - Uber's diversified business model, which includes both Mobility (ride-hailing) and Delivery (food and goods delivery), allowed it to capitalize on multiple revenue streams. The strong performance of its Delivery segment, in particular, contributed significantly to its overall growth.\n",
      "   - Lyft, on the other hand, remains focused primarily on ride-hailing, which limited its ability to capture growth opportunities in other segments like delivery.\n",
      "\n",
      "4. **Market Position**:\n",
      "   - Uber's larger scale and global presence gave it an advantage in capturing growth across different markets and segments. Lyft, being more regionally focused (primarily in North America), had a narrower scope for growth.\n",
      "\n",
      "**Analysis**:\n",
      "Uber outperformed Lyft in terms of revenue growth in 2021, largely due to its diversified business model and global reach. While Lyft benefited from the reopening of communities and an increase in Active Riders, its growth was constrained by its reliance on the ride-hailing segment and the need to invest heavily in driver incentives. Uber's ability to leverage its Delivery segment, which saw significant demand during the pandemic, provided a strong boost to its overall revenue.\n",
      "\n",
      "In conclusion, Uber's broader business strategy and market presence positioned it better for growth in 2021 compared to Lyft, which remains more focused on its core ride-hailing business.\n",
      "- **Is_streaming**: False\n",
      "\n",
      "\n"
     ]
    }
   ],
   "source": [
    "format_reasoning(result[\"reasoning\"])"
   ]
  }
 ],
 "metadata": {
  "kernelspec": {
   "display_name": "Python 3 (ipykernel)",
   "language": "python",
   "name": "python3"
  },
  "language_info": {
   "codemirror_mode": {
    "name": "ipython",
    "version": 3
   },
   "file_extension": ".py",
   "mimetype": "text/x-python",
   "name": "python",
   "nbconvert_exporter": "python",
   "pygments_lexer": "ipython3",
   "version": "3.11.5"
  }
 },
 "nbformat": 4,
 "nbformat_minor": 5
}
